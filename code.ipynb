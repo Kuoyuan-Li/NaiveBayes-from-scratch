{
 "cells": [
  {
   "cell_type": "markdown",
   "metadata": {},
   "source": [
    "## The University of Melbourne, School of Computing and Information Systems\n",
    "## Pose classification with naive Bayes"
   ]
  },
  {
   "cell_type": "markdown",
   "metadata": {},
   "source": [
    "Note: This project is a part of the assignments in COMP30027 Machine learning\n"
   ]
  },
  {
   "cell_type": "code",
   "execution_count": 1,
   "metadata": {},
   "outputs": [],
   "source": [
    "import numpy\n",
    "import copy\n",
    "import math\n",
    "import scipy.stats\n",
    "import csv\n",
    "import re\n",
    "\n",
    "#Constants\n",
    "CIRCLE = 360\n",
    "LOW = -99999\n",
    "MISSING_VALUE = 9999"
   ]
  },
  {
   "cell_type": "code",
   "execution_count": 2,
   "metadata": {
    "tags": []
   },
   "outputs": [],
   "source": [
    "# This function prepare the data by reading it from a file and converting it into a useful format for training\n",
    "def preprocess(filename):\n",
    "    X = []  # store instances (temporally)\n",
    "    y = []  # store class labels\n",
    "    with open(filename, 'r') as datafile:\n",
    "        for line in datafile:\n",
    "            instance = line.strip().split(\",\")\n",
    "            X.append(instance[:])\n",
    "            y.append(instance[0])  # class label is at pos 0 in a line\n",
    "\n",
    "    instanceDict = {}  # use dict to store all instances\n",
    "    for classLabel in set(y):\n",
    "        instanceDict[classLabel] = []  # add new key(class label)\n",
    "        for instance in X:\n",
    "            if instance[0] == classLabel:\n",
    "                instanceDict[classLabel].append([float(value) for value in instance[1:]])  # add in all instances with this class\n",
    "\n",
    "    return len(X[0])-1, instanceDict, set(y)  # return number of attributes, instances and class labels"
   ]
  },
  {
   "cell_type": "code",
   "execution_count": 3,
   "metadata": {},
   "outputs": [],
   "source": [
    "# This function prepare the data by reading it from a file and converting it into a useful format for testing\n",
    "def preprocessTest(filename):\n",
    "    testInstances = []\n",
    "    with open(filename, 'r') as datafile:\n",
    "        for line in datafile:\n",
    "            instance = line.strip().split(\",\")\n",
    "            testInstances.append(instance)\n",
    "    return testInstances"
   ]
  },
  {
   "cell_type": "code",
   "execution_count": 4,
   "metadata": {
    "tags": []
   },
   "outputs": [],
   "source": [
    "# This function calculat prior probabilities and likelihoods from the training data and using them to build a naive Bayes model\n",
    "\n",
    "def train(attributesNum,trainInstancesDict,classLabels):\n",
    "    model = {}  # dict for model, class label as key, 22 attributes (mean, std) tuples (in a form of list) as value\n",
    "    priors = {}  # priors for each class\n",
    "    instancesNum = 0  # total instance number\n",
    "    for classLabel in classLabels:\n",
    "        attributesDistri = []  # list store all (attributes | this class) mean and std\n",
    "        for attri in range(0,attributesNum):\n",
    "            data = []  # store all data\n",
    "            for instances in trainInstancesDict[classLabel]:\n",
    "                if instances[attri] < MISSING_VALUE:  # drop missing value\n",
    "                    data.append(instances[attri])\n",
    "            mean = numpy.mean(data)  # mean\n",
    "            std = numpy.std(data)  # standard deviation\n",
    "            attributesDistri.append((mean,std))\n",
    "        model[classLabel] = attributesDistri  # add in the model dict\n",
    "        priors[classLabel] = len(trainInstancesDict[classLabel])  # find each class label appearance times\n",
    "        instancesNum += len(trainInstancesDict[classLabel])  # calculate total instances number\n",
    "    for key in priors.keys():  # calculate prior by dividing the total instances number\n",
    "        priors[key] = priors[key]/instancesNum\n",
    "    return priors, model"
   ]
  },
  {
   "cell_type": "code",
   "execution_count": 5,
   "metadata": {
    "tags": []
   },
   "outputs": [],
   "source": [
    "# This function predict classes for new items in a test dataset\n",
    "\n",
    "def predict(priors,model,testInstances,attributesNum,classLabels):\n",
    "    for testInstance in testInstances:  # iterate all test instance\n",
    "        probabilities = []  # probability for each class label\n",
    "        for classLabel in classLabels:\n",
    "            probability = math.log(priors[classLabel])  # log(P(c))\n",
    "            for attri in range (1,attributesNum+1):\n",
    "                thisAttriMean,thisAttriStd = model[classLabel][attri-1]\n",
    "                thisAttriValue = float(testInstance[attri])\n",
    "                if thisAttriValue < MISSING_VALUE:  # not a missing value\n",
    "                    pAttrigivenClass = scipy.stats.norm(loc=thisAttriMean,scale=thisAttriStd).pdf(thisAttriValue)\n",
    "                    if pAttrigivenClass > 0:  # probability is not proximal to 0\n",
    "                        probability += math.log(pAttrigivenClass)\n",
    "            probabilities.append((classLabel,probability))  # add in the probability of this class\n",
    "        highestProbabilityValue = LOW\n",
    "        predictedLabel = probabilities[0][1]\n",
    "        for classProbability in probabilities:  # predict with the class with highest probability\n",
    "            if classProbability[1] > highestProbabilityValue:\n",
    "                highestProbabilityValue = classProbability[1]\n",
    "                predictedLabel = classProbability[0]\n",
    "        testInstance[0] = predictedLabel\n",
    "    return testInstances"
   ]
  },
  {
   "cell_type": "code",
   "execution_count": 6,
   "metadata": {
    "tags": []
   },
   "outputs": [],
   "source": [
    "# This function evaluate the prediction performance by comparing your model’s class outputs to ground truth labels\n",
    "\n",
    "def evaluate(classLabels, prediction, testInstances):\n",
    "    correct = 0\n",
    "    incorrect = 0\n",
    "    evaluations = {}\n",
    "    for classLabel in classLabels:  # initialization\n",
    "        evaluations[classLabel]= {\"TP\":0,\"FN\":0,\"FP\":0}\n",
    "        for i in range (0,len(prediction)):  # iterate through all test instances\n",
    "            if prediction[i][0] == classLabel:\n",
    "                if prediction[i][0] == testInstances[i][0]:  # true positive\n",
    "                    evaluations[classLabel][\"TP\"] += 1\n",
    "                    correct += 1\n",
    "                else:  # false positive\n",
    "                    evaluations[classLabel][\"FP\"] += 1\n",
    "                    incorrect += 1\n",
    "            if testInstances[i][0] == classLabel and prediction[i][0] != testInstances[i][0]:  # false negative\n",
    "                evaluations[classLabel][\"FN\"] += 1\n",
    "    macroPrecision, macroRecall, sumTP, sumTPFN, sumTPFP  = 0,0,0,0,0\n",
    "    for eachClass in evaluations.keys():\n",
    "        macroPrecision += evaluations[eachClass][\"TP\"] / \\\n",
    "                                              (evaluations[eachClass][\"TP\"]+evaluations[eachClass][\"FP\"])  # sum each class precision\n",
    "        macroRecall += evaluations[eachClass][\"TP\"] / \\\n",
    "                                           (evaluations[eachClass][\"TP\"] + evaluations[eachClass][\"FN\"])  # sum each class recall\n",
    "        sumTP += evaluations[eachClass][\"TP\"]  # sum each class TP\n",
    "        sumTPFP += evaluations[eachClass][\"TP\"]+evaluations[eachClass][\"FP\"] # sum each class FP\n",
    "        sumTPFN += evaluations[eachClass][\"TP\"]+evaluations[eachClass][\"FN\"] # sum each class FN\n",
    "    accuracy = correct / (correct + incorrect)\n",
    "    macroPrecision = macroPrecision/len(evaluations.keys())\n",
    "    macroRecall = macroRecall / len(evaluations.keys())\n",
    "    microPrecision = sumTP/sumTPFP  # micro formula\n",
    "    microRecall = sumTP/sumTPFN\n",
    "    return accuracy,macroPrecision,macroRecall, microPrecision, microRecall"
   ]
  },
  {
   "cell_type": "code",
   "execution_count": 7,
   "metadata": {},
   "outputs": [
    {
     "name": "stdout",
     "output_type": "stream",
     "text": [
      "0.7413793103448276 0.7191865079365078 0.7371947496947497 0.7413793103448276 0.7413793103448276\n"
     ]
    }
   ],
   "source": [
    "attributesNum, trainInstancesDict, classLabels = preprocess('train.csv')\n",
    "priors, model = train(attributesNum,trainInstancesDict,classLabels)\n",
    "testInstances = preprocessTest('test.csv')\n",
    "prediction = predict(priors,model,copy.deepcopy(testInstances),attributesNum,classLabels)\n",
    "accuracy,macroPrecision,macroRecall, microPrecision, microRecall = evaluate(classLabels, prediction,testInstances)\n",
    "print(accuracy,macroPrecision,macroRecall,microPrecision,microRecall)"
   ]
  },
  {
   "cell_type": "code",
   "execution_count": 37,
   "metadata": {},
   "outputs": [],
   "source": [
    "# This function produce new features based on the provided data of (x,y) positions of keypoints\n",
    "\n",
    "def engineerFeatures(filename):\n",
    "    instances = []\n",
    "    with open(filename, 'r') as datafile:\n",
    "        for line in datafile:\n",
    "            instance = line.strip().split(\",\")\n",
    "            for i in range(1,len(instance)):\n",
    "                instance[i] = float(instance[i])\n",
    "            instances.append(instance)\n",
    "\n",
    "\n",
    "    for instance in instances:\n",
    "        # angle between shoulder, right elbow and right wrist\n",
    "        if instance[2] < MISSING_VALUE and instance[3] < MISSING_VALUE and instance[4] < MISSING_VALUE:\n",
    "            angleShoElbWriR = calculateAngle(instance[2],instance[13],instance[3],instance[14],instance[4],instance[15])\n",
    "        else:\n",
    "            angleShoElbWriR = MISSING_VALUE\n",
    "        instance.append(angleShoElbWriR)\n",
    "\n",
    "        # angle between hip, right knee and right foot\n",
    "        if instance[7] < MISSING_VALUE and instance[8] < MISSING_VALUE and instance[9] < MISSING_VALUE:\n",
    "            angleHipKneFooR = calculateAngle(instance[7],instance[18],instance[8],instance[19],instance[9],instance[20])\n",
    "        else:\n",
    "            angleHipKneFooR = MISSING_VALUE\n",
    "        instance.append(angleHipKneFooR)\n",
    "\n",
    "        # angle between hip, left knee and left foot\n",
    "        if instance[7] < MISSING_VALUE and instance[10] < MISSING_VALUE and instance[11] < MISSING_VALUE:\n",
    "            angleHipKneFooL = calculateAngle(instance[7],instance[18],instance[10],instance[21],instance[11],instance[22])\n",
    "        else:\n",
    "            angleHipKneFooL = MISSING_VALUE\n",
    "        instance.append(angleHipKneFooL)\n",
    "\n",
    "        # angle between shoulder, right elbow and hip\n",
    "        if instance[3] < MISSING_VALUE and instance[2] < MISSING_VALUE and instance[7] < MISSING_VALUE:\n",
    "            angleShoElbHipR = calculateAngle(instance[3],instance[14],instance[2],instance[13],instance[7],instance[18])\n",
    "        else:\n",
    "            angleShoElbHipR = MISSING_VALUE\n",
    "        instance.append(angleShoElbHipR)\n",
    "\n",
    "        # angle between shoulder, left elbow and hip\n",
    "        if instance[5] <MISSING_VALUE and instance[2] < MISSING_VALUE and instance[7] < MISSING_VALUE:\n",
    "            angleShoElbHipL = calculateAngle(instance[5],instance[16],instance[2],instance[13],instance[7],instance[18])\n",
    "        else:\n",
    "            angleShoElbHipL = MISSING_VALUE\n",
    "        instance.append(angleShoElbHipL)\n",
    "\n",
    "        # angle between shoulder, hip and right knee\n",
    "        if instance[2] < MISSING_VALUE and instance[7] < MISSING_VALUE and instance[8] < MISSING_VALUE:\n",
    "            angleShoHipKneR = calculateAngle(instance[2],instance[13],instance[7],instance[18],instance[8],instance[19])\n",
    "        else:\n",
    "            angleShoHipKneR = MISSING_VALUE\n",
    "        instance.append(angleShoHipKneR)\n",
    "\n",
    "        # angle between shoulder hip and left knee\n",
    "        if instance[2] < MISSING_VALUE and instance[7] < MISSING_VALUE and instance[10] < MISSING_VALUE:\n",
    "            angleShoHipKneL = calculateAngle(instance[2],instance[13],instance[7],instance[18],instance[10],instance[21])\n",
    "        else:\n",
    "            angleShoHipKneL = MISSING_VALUE\n",
    "        instance.append(angleShoHipKneL)\n",
    "\n",
    "        # distance between head and right wrist\n",
    "        if instance[1] < MISSING_VALUE and instance[4] < MISSING_VALUE :\n",
    "            distHeadWriR = calculateDistance(instance[1],instance[12],instance[4],instance[15])\n",
    "        else:\n",
    "            distHeadWriR = MISSING_VALUE\n",
    "        instance.append(distHeadWriR)\n",
    "\n",
    "        # distance between head and left wrist\n",
    "        if instance[1] < MISSING_VALUE and instance[6] < MISSING_VALUE :\n",
    "            distHeadWriL = calculateDistance(instance[1],instance[12],instance[6],instance[17])\n",
    "        else:\n",
    "            distHeadWriL = MISSING_VALUE\n",
    "        instance.append(distHeadWriL)\n",
    "\n",
    "        # distance between head and right foot\n",
    "        if instance[1] < MISSING_VALUE and instance[9] < MISSING_VALUE :\n",
    "            distHeadFooR = calculateDistance(instance[1],instance[12],instance[9],instance[20])\n",
    "        else:\n",
    "            distHeadFooR = MISSING_VALUE\n",
    "        instance.append(distHeadFooR)\n",
    "        \n",
    "        # distance between hip and left foot\n",
    "        if instance[7] < MISSING_VALUE and instance[11] < MISSING_VALUE :\n",
    "            distHipFooL = calculateDistance(instance[7],instance[18],instance[11],instance[22])\n",
    "        else:\n",
    "            distHipFooL = MISSING_VALUE\n",
    "        instance.append(distHipFooL)\n",
    "        \n",
    "    newFilenamePrefix =re.sub('.csv', '', filename)\n",
    "    with open(newFilenamePrefix+\"_engineer.csv\", \"w\", newline=\"\") as f:\n",
    "        writer = csv.writer(f)\n",
    "        writer.writerows(instances)"
   ]
  },
  {
   "cell_type": "code",
   "execution_count": 38,
   "metadata": {},
   "outputs": [],
   "source": [
    "def calculateAngle(point1x, point1y, midPointx, midPointy,point2x, point2y):\n",
    "    angle = math.degrees(\n",
    "        math.atan2(point2y - midPointy, point2x - midPointx) - math.atan2(point1y - midPointy, point1x - midPointx))\n",
    "    if angle < 0:\n",
    "        angle += CIRCLE\n",
    "    return angle\n",
    "\n",
    "def calculateDistance(point1x, point1y, point2x, point2y):\n",
    "    return math.sqrt(math.pow((point1x-point2x),2)+math.pow((point1y-point2y),2))"
   ]
  },
  {
   "cell_type": "code",
   "execution_count": 39,
   "metadata": {},
   "outputs": [
    {
     "name": "stdout",
     "output_type": "stream",
     "text": [
      "0.7758620689655172 0.7868253968253969 0.7921153846153846 0.7758620689655172 0.7758620689655172\n"
     ]
    }
   ],
   "source": [
    "engineerFeatures(\"train.csv\")\n",
    "engineerFeatures(\"test.csv\")\n",
    "attributesNum, trainInstancesDict, classLabels = preprocess('train_engineer.csv')\n",
    "priors, model = train(attributesNum,trainInstancesDict,classLabels)\n",
    "testInstances = preprocessTest('test_engineer.csv')\n",
    "prediction = predict(priors,model,copy.deepcopy(testInstances),attributesNum,classLabels)\n",
    "accuracy,macroPrecision,macroRecall, microPrecision, microRecall = evaluate(classLabels, prediction,testInstances)\n",
    "print(accuracy,macroPrecision,macroRecall,microPrecision,microRecall)"
   ]
  },
  {
   "cell_type": "code",
   "execution_count": null,
   "metadata": {
    "collapsed": true,
    "jupyter": {
     "outputs_hidden": true
    }
   },
   "outputs": [],
   "source": []
  }
 ],
 "metadata": {
  "kernelspec": {
   "display_name": "Python 3 (ipykernel)",
   "language": "python",
   "name": "python3"
  },
  "language_info": {
   "codemirror_mode": {
    "name": "ipython",
    "version": 3
   },
   "file_extension": ".py",
   "mimetype": "text/x-python",
   "name": "python",
   "nbconvert_exporter": "python",
   "pygments_lexer": "ipython3",
   "version": "3.8.8"
  }
 },
 "nbformat": 4,
 "nbformat_minor": 4
}
